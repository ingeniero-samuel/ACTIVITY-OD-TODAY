{
  "cells": [
    {
      "cell_type": "markdown",
      "metadata": {
        "id": "view-in-github",
        "colab_type": "text"
      },
      "source": [
        "<a href=\"https://colab.research.google.com/github/ingeniero-samuel/ACTIVITY-OD-TODAY/blob/main/codigo_de_la_calse_de_hoy.ipynb\" target=\"_parent\"><img src=\"https://colab.research.google.com/assets/colab-badge.svg\" alt=\"Open In Colab\"/></a>"
      ]
    },
    {
      "cell_type": "code",
      "source": [
        "import random\n",
        "import time\n",
        "import os\n",
        "\n",
        "def crear_tablero(filas, columnas):\n",
        "    tablero = []\n",
        "    letras_y_numeros = 'ABCDEFGHIJKLMNOPQRSTUVWXYZ12345678901234567890'\n",
        "    for i in range(filas):\n",
        "        fila = [random.choice(letras_y_numeros) for i in range(columnas)]\n",
        "        tablero.append(fila)\n",
        "    return tablero\n",
        "\n",
        "def mostrar_tablero(tablero):\n",
        "    for fila in tablero:\n",
        "        print(' '.join(fila))\n",
        "    time.sleep(len(tablero) // 2)  # Tiempo\n",
        "\n",
        "def ocultar_ficha(tablero):\n",
        "    fila_oculta = random.randint(0, len(tablero) - 1)\n",
        "    columna_oculta = random.randint(0, len(tablero[0]) - 1)\n",
        "    ficha_oculta = tablero[fila_oculta][columna_oculta]\n",
        "    tablero[fila_oculta][columna_oculta] = '*'\n",
        "    return ficha_oculta\n",
        "\n",
        "def main():\n",
        "    print(\"Bienvenido al juego de memoria\")\n",
        "    while True:\n",
        "        filas = int(input(\"Ingrese el número de filas : \"))\n",
        "        columnas = int(input(\"Ingrese el número de columnas : \"))\n",
        "\n",
        "        tablero = crear_tablero(filas, columnas)\n",
        "        os.system('cls' if os.name == 'nt' else 'clear')  # Limpiar la pantalla\n",
        "        print(\"Aquí está tu tablero:\")\n",
        "        mostrar_tablero(tablero)\n",
        "        os.system('cls' if os.name == 'nt' else 'clear')  # Limpiar la pantalla\n",
        "\n",
        "        ficha_oculta = ocultar_ficha(tablero)\n",
        "        print(\"¡Una ficha ha sido ocultada!\")\n",
        "        time.sleep(2)  # Dar tiempo al usuario\n",
        "\n",
        "        # Limpiar la pantalla\n",
        "        os.system('cls' if os.name == 'nt' else 'clear')\n",
        "        print(\"Intenta recordar la ficha oculta...\")\n",
        "        mostrar_tablero(tablero)\n",
        "\n",
        "        respuesta = input(\"Ingrese su respuesta: \")\n",
        "        if respuesta.upper() == ficha_oculta:\n",
        "            print(\"¡Correcto! \")\n",
        "        else:\n",
        "            print(\"incorrecto, la ficha oculta era:\", ficha_oculta)\n",
        "\n",
        "        continuar = input(\"¿Quieres jugar de nuevo? (s/n): \")\n",
        "        if continuar.lower() != 's':\n",
        "            break\n",
        "\n",
        "if __name__ == \"__main__\":\n",
        "    main()\n"
      ],
      "metadata": {
        "id": "71Fqoh2svWH2",
        "colab": {
          "base_uri": "https://localhost:8080/"
        },
        "outputId": "9f9b4c08-07c7-4f01-ef4b-be1cff01d412"
      },
      "execution_count": 5,
      "outputs": [
        {
          "name": "stdout",
          "output_type": "stream",
          "text": [
            "Bienvenido al juego de memoria\n",
            "Ingrese el número de filas : 1\n",
            "Ingrese el número de columnas : 1\n",
            "Aquí está tu tablero:\n",
            "1\n",
            "¡Una ficha ha sido ocultada!\n",
            "Intenta recordar la ficha oculta...\n",
            "*\n",
            "Ingrese su respuesta (letra o número): 2\n",
            "Lo siento, la ficha oculta era: 1\n",
            "¿Quieres jugar de nuevo? (s/n): n\n"
          ]
        }
      ]
    }
  ],
  "metadata": {
    "colab": {
      "provenance": [],
      "include_colab_link": true
    },
    "kernelspec": {
      "display_name": "Python 3",
      "name": "python3"
    }
  },
  "nbformat": 4,
  "nbformat_minor": 0
}